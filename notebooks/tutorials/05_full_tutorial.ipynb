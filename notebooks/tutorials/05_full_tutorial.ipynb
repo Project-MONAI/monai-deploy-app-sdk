{
 "cells": [
  {
   "cell_type": "markdown",
   "metadata": {},
   "source": [
    "# Full Tutorial Building and Deploying Segmentation App with MONAI Inference Service (MIS)\n",
    "\n",
    "This tutorial has been deprecated as the MIS itself has been. Please use [MONAI Deploy Express](https://github.com/Project-MONAI/monai-deploy/tags) for hosting MONAI Application Packages in non-production environment.\n"
   ]
  }
 ],
 "metadata": {
  "interpreter": {
   "hash": "31f2aee4e71d21fbe5cf8b01ff0e069b9275f58929596ceb00d14d90e3e16cd6"
  },
  "kernelspec": {
   "display_name": "Python 3",
   "language": "python",
   "name": "python3"
  },
  "language_info": {
   "codemirror_mode": {
    "name": "ipython",
    "version": 3
   },
   "file_extension": ".py",
   "mimetype": "text/x-python",
   "name": "python",
   "nbconvert_exporter": "python",
   "pygments_lexer": "ipython3",
   "version": "3.8.10"
  }
 },
 "nbformat": 4,
 "nbformat_minor": 4
}
