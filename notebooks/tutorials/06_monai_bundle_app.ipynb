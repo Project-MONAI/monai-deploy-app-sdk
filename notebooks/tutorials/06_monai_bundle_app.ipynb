{
 "cells": [
  {
   "cell_type": "markdown",
   "metadata": {},
   "source": [
    "# Creating a Deploy App with MONAI Deploy App SDK and MONAI Bundle\n",
    "\n",
    "This tutorial shows how to create an organ segmentation application for a PyTorch model that has been trained with MONAI and packaged in the [MONAI Bundle](https://docs.monai.io/en/latest/bundle_intro.html) format.\n",
    "\n",
    "Deploying AI models requires the integration with clinical imaging network, even if in a for-research-use setting. This means that the AI deploy application will need to support standards-based imaging protocols, and specifically for Radiological imaging, DICOM protocol.\n",
    "\n",
    "Typically, DICOM network communication, either in DICOM TCP/IP network protocol or DICOMWeb, would be handled by DICOM devices or services, e.g. MONAI Deploy Informatics Gateway, so the deploy application itself would only need to use DICOM Part 10 files as input and save the AI result in DICOM Part10 file(s). For segmentation use cases, the DICOM instance file for AI results could be a DICOM Segmentation object or a DICOM RT Structure Set, and for classification, DICOM Structure Report and/or DICOM Encapsulated PDF.\n",
    "\n",
    "When integrated with imaging networks and receiving DICOM instances from modalities and Picture Archiving and Communications System (PACS), an AI deploy application has to deal with a whole DICOM study with multiple series, whose images' spacing may not be the same as expected by the trained model. To address these cases consistently and efficiently, MONAI Deploy Application SDK provides classes, called operators, to parse DICOM studies, select specific series with application-defined rules, and convert the selected DICOM series into domain-specific image format along with meta-data representing the pertinent DICOM attributes. The image is then further processed in the pre-processing stage to normalize spacing, orientation, intensity,etc, before pixel data as Tensors are used for inference.\n",
    "\n",
    "In the following sections, we will demonstrate how to create a MONAI Deploy application package using the MONAI Deploy App SDK, and importantly, using the built-in MONAI Bundle Inference Operator to perform inference with the Spleen CT Segmentation PyTorch model in a MONAI Bundle.\n",
    "\n",
    ":::{note}\n",
    "For local testing, if there is a lack of DICOM Part 10 files, one can use open source programs, e.g. 3D Slicer, to convert a NIfTI file to a DICOM series.\n",
    "\n",
    "To make running this example simpler, the DICOM files and the [Spleen CT Segmentation MONAI Bundle](https://github.com/Project-MONAI/model-zoo/tree/dev/models/spleen_ct_segmentation), published in [MONAI Model Zoo](https://github.com/Project-MONAI/model-zoo), have been packaged and shared on Google Drive.\n",
    "\n",
    ":::\n",
    "\n",
    "## Creating Operators and connecting them in Application class\n",
    "\n",
    "We will implement an application that consists of five Operators:\n",
    "\n",
    "- **DICOMDataLoaderOperator**:\n",
    "    - **Input(dicom_files)**: a folder path ([`DataPath`](/modules/_autosummary/monai.deploy.core.domain.DataPath))\n",
    "    - **Output(dicom_study_list)**: a list of DICOM studies in memory (List[[`DICOMStudy`](/modules/_autosummary/monai.deploy.core.domain.DICOMStudy)])\n",
    "- **DICOMSeriesSelectorOperator**:\n",
    "    - **Input(dicom_study_list)**: a list of DICOM studies in memory (List[[`DICOMStudy`](/modules/_autosummary/monai.deploy.core.domain.DICOMStudy)])\n",
    "    - **Input(selection_rules)**: a selection rule (Dict)\n",
    "    - **Output(study_selected_series_list)**: a DICOM series object in memory ([`StudySelectedSeries`](/modules/_autosummary/monai.deploy.core.domain.StudySelectedSeries))\n",
    "- **DICOMSeriesToVolumeOperator**:\n",
    "    - **Input(study_selected_series_list)**: a DICOM series object in memory ([`StudySelectedSeries`](/modules/_autosummary/monai.deploy.core.domain.StudySelectedSeries))\n",
    "    - **Output(image)**: an image object in memory ([`Image`](/modules/_autosummary/monai.deploy.core.domain.Image))\n",
    "- **MonaiBundleInferenceOperator**:\n",
    "    - **Input(image)**: an image object in memory ([`Image`](/modules/_autosummary/monai.deploy.core.domain.Image))\n",
    "    - **Output(pred)**: an image object in memory ([`Image`](/modules/_autosummary/monai.deploy.core.domain.Image))\n",
    "- **DICOMSegmentationWriterOperator**:\n",
    "    - **Input(seg_image)**: a segmentation image object in memory ([`Image`](/modules/_autosummary/monai.deploy.core.domain.Image))\n",
    "    - **Input(study_selected_series_list)**: a DICOM series object in memory ([`StudySelectedSeries`](/modules/_autosummary/monai.deploy.core.domain.StudySelectedSeries))\n",
    "    - **Output(dicom_seg_instance)**: a file path ([`DataPath`](/modules/_autosummary/monai.deploy.core.domain.DataPath))\n",
    "\n",
    "\n",
    ":::{note}\n",
    "The `DICOMSegmentationWriterOperator` needs both the segmentation image as well as the original DICOM series meta-data in order to use the patient demographics and the DICOM Study level attributes.\n",
    ":::\n",
    "\n",
    "The workflow of the application is illustrated below.\n",
    "\n",
    "```{mermaid}\n",
    "%%{init: {\"theme\": \"base\", \"themeVariables\": { \"fontSize\": \"16px\"}} }%%\n",
    "\n",
    "classDiagram\n",
    "    direction TB\n",
    "\n",
    "    DICOMDataLoaderOperator --|> DICOMSeriesSelectorOperator : dicom_study_list...dicom_study_list\n",
    "    DICOMSeriesSelectorOperator --|> DICOMSeriesToVolumeOperator : study_selected_series_list...study_selected_series_list\n",
    "    DICOMSeriesToVolumeOperator --|> MonaiBundleInferenceOperator : image...image\n",
    "    DICOMSeriesSelectorOperator --|> DICOMSegmentationWriterOperator : study_selected_series_list...study_selected_series_list\n",
    "    MonaiBundleInferenceOperator --|> DICOMSegmentationWriterOperator : pred...seg_image\n",
    "\n",
    "\n",
    "    class DICOMDataLoaderOperator {\n",
    "        <in>dicom_files : DISK\n",
    "        dicom_study_list(out) IN_MEMORY\n",
    "    }\n",
    "    class DICOMSeriesSelectorOperator {\n",
    "        <in>dicom_study_list : IN_MEMORY\n",
    "        <in>selection_rules : IN_MEMORY\n",
    "        study_selected_series_list(out) IN_MEMORY\n",
    "    }\n",
    "    class DICOMSeriesToVolumeOperator {\n",
    "        <in>study_selected_series_list : IN_MEMORY\n",
    "        image(out) IN_MEMORY\n",
    "    }\n",
    "    class MonaiBundleInferenceOperator {\n",
    "        <in>image : IN_MEMORY\n",
    "        pred(out) IN_MEMORY\n",
    "    }\n",
    "    class DICOMSegmentationWriterOperator {\n",
    "        <in>seg_image : IN_MEMORY\n",
    "        <in>study_selected_series_list : IN_MEMORY\n",
    "        dicom_seg_instance(out) DISK\n",
    "    }\n",
    "```\n",
    "\n",
    "### Setup environment\n"
   ]
  },
  {
   "cell_type": "code",
   "execution_count": 1,
   "metadata": {},
   "outputs": [],
   "source": [
    "# Install MONAI and other necessary image processing packages for the application\n",
    "!python -c \"import monai\" || pip install --upgrade -q \"monai\"\n",
    "!python -c \"import torch\" || pip install -q \"torch>=1.5\"\n",
    "!python -c \"import numpy\" || pip install -q \"numpy>=1.21\"\n",
    "!python -c \"import nibabel\" || pip install -q \"nibabel>=3.2.1\"\n",
    "!python -c \"import pydicom\" || pip install -q \"pydicom>=1.4.2\"\n",
    "!python -c \"import SimpleITK\" || pip install -q \"SimpleITK>=2.0.0\"\n",
    "!python -c \"import typeguard\" || pip install -q \"typeguard>=2.12.1\"\n",
    "\n",
    "# Install MONAI Deploy App SDK package\n",
    "!python -c \"import monai.deploy\" || pip install --upgrade -q \"monai-deploy-app-sdk\""
   ]
  },
  {
   "cell_type": "markdown",
   "metadata": {},
   "source": [
    "Note: you may need to restart the Jupyter kernel to use the updated packages."
   ]
  },
  {
   "cell_type": "markdown",
   "metadata": {},
   "source": [
    "### Download/Extract input and model/bundle files from Google Drive"
   ]
  },
  {
   "cell_type": "code",
   "execution_count": 2,
   "metadata": {},
   "outputs": [
    {
     "name": "stdout",
     "output_type": "stream",
     "text": [
      "Downloading...\n",
      "From: https://drive.google.com/uc?id=1cJq0iQh_yzYIxVElSlVa141aEmHZADJh\n",
      "To: ~/src/monai-deploy-app-sdk/notebooks/tutorials/ai_spleen_bundle_data.zip\n",
      "104MB [00:10, 10.3MB/s] \n",
      "Archive:  ai_spleen_bundle_data.zip\n",
      "   creating: dcm/\n",
      "  inflating: dcm/IMG0001.dcm         \n",
      "  inflating: dcm/IMG0002.dcm         \n",
      "  inflating: dcm/IMG0003.dcm         \n",
      "  inflating: dcm/IMG0004.dcm         \n",
      "  inflating: dcm/IMG0005.dcm         \n",
      "  inflating: dcm/IMG0006.dcm         \n",
      "  inflating: dcm/IMG0007.dcm         \n",
      "  inflating: dcm/IMG0008.dcm         \n",
      "  inflating: dcm/IMG0009.dcm         \n",
      "...                                  \n",
      "  inflating: dcm/IMG0509.dcm         \n",
      "  inflating: dcm/IMG0510.dcm         \n",
      "  inflating: dcm/IMG0511.dcm         \n",
      "  inflating: dcm/IMG0512.dcm         \n",
      "  inflating: dcm/IMG0513.dcm         \n",
      "  inflating: dcm/IMG0514.dcm         \n",
      "  inflating: dcm/IMG0515.dcm         \n",
      "  inflating: model.ts                \n"
     ]
    }
   ],
   "source": [
    "# Download the test data and MONAI bundle zip file\n",
    "!pip install gdown \n",
    "!gdown \"https://drive.google.com/uc?id=1cJq0iQh_yzYIxVElSlVa141aEmHZADJh\"\n",
    "\n",
    "# After downloading ai_spleen_bundle_data zip file from the web browser or using gdown,\n",
    "!unzip -o \"ai_spleen_bundle_data.zip\""
   ]
  },
  {
   "cell_type": "markdown",
   "metadata": {},
   "source": [
    "### Setup imports\n",
    "\n",
    "Let's import necessary classes/decorators to define Application and Operator."
   ]
  },
  {
   "cell_type": "code",
   "execution_count": 3,
   "metadata": {},
   "outputs": [],
   "source": [
    "import logging\n",
    "\n",
    "from monai.deploy.core import Application, resource\n",
    "from monai.deploy.core.domain import Image\n",
    "from monai.deploy.core.io_type import IOType\n",
    "from monai.deploy.operators.dicom_data_loader_operator import DICOMDataLoaderOperator\n",
    "from monai.deploy.operators.dicom_seg_writer_operator import DICOMSegmentationWriterOperator\n",
    "from monai.deploy.operators.dicom_series_selector_operator import DICOMSeriesSelectorOperator\n",
    "from monai.deploy.operators.dicom_series_to_volume_operator import DICOMSeriesToVolumeOperator\n",
    "from monai.deploy.operators.monai_bundle_inference_operator import IOMapping, MonaiBundleInferenceOperator\n"
   ]
  },
  {
   "cell_type": "markdown",
   "metadata": {},
   "source": [
    "### Determining the Input and Output for the Model Bundle Inference Operator\n",
    "\n",
    "The App SDK provides a `MonaiBundleInferenceOperator` class to perform inference with a MONAI Bundle, which is essentially a PyTorch model in TorchScript with additional metadata describing the model network and processing specification. This operator uses the MONAI utilities to parse a MONAI Bundle to automatically instantiate the objects required for input and output processing as well as inference, as such it depends on MONAI transforms, inferers, and in turn their dependencies.\n",
    "\n",
    "Each Operator class inherits from the base [Operator](/modules/_autosummary/monai.deploy.core.Operator) class, and its input/output properties are specified by using [@input](/modules/_autosummary/monai.deploy.core.input)/[@output](/modules/_autosummary/monai.deploy.core.output) decorators. For the `MonaiBundleInferenceOperator` class, the input/output need to be defined to match those of the model network, both in name and data type. For the current release, an `IOMapping` object is used to connect the operator input/output to those of the model network by using the same names. This is likely to change, to be automated, in the future releases once certain limitation in the App SDK is removed.\n",
    "\n",
    "The Spleen CT Segmentation model network has a named input, called \"image\", and the named output called \"pred\", and both are of image type, which can all be mapped to the App SDK [Image](/modules/_autosummary/monai.deploy.core.domain.Image). This piece of information is typically acquired by examining the model metadata `network_data_format` attribute in the bundle, as seen in this [example] (https://github.com/Project-MONAI/model-zoo/blob/dev/models/spleen_ct_segmentation/configs/metadata.json)."
   ]
  },
  {
   "cell_type": "markdown",
   "metadata": {},
   "source": [
    "### Creating Application class\n",
    "\n",
    "Our application class would look like below.\n",
    "\n",
    "It defines `App` class, inheriting [Application](/modules/_autosummary/monai.deploy.core.Application) class.\n",
    "\n",
    "The requirements (resource and package dependency) for the App can be specified by using [@resource](/modules/_autosummary/monai.deploy.core.resource) and [@env](/modules/_autosummary/monai.deploy.core.env) decorators.\n",
    "\n",
    "The base class method, `compose`, is overridden. Objects required for DICOM parsing, series selection (selecting the first series for the current release), pixel data conversion to volume image, and segmentation instance creation are created, so is the model-specific `SpleenSegOperator`. The execution pipeline, as a Directed Acyclic Graph, is created by connecting these objects through <a href=\"../../modules/_autosummary/monai.deploy.core.Application.html#monai.deploy.core.Application.add_flow\">self.add_flow()</a>."
   ]
  },
  {
   "cell_type": "code",
   "execution_count": 4,
   "metadata": {},
   "outputs": [],
   "source": [
    "@resource(cpu=1, gpu=1, memory=\"7Gi\")\n",
    "class AISpleenSegApp(Application):\n",
    "    def __init__(self, *args, **kwargs):\n",
    "        \"\"\"Creates an application instance.\"\"\"\n",
    "        self._logger = logging.getLogger(\"{}.{}\".format(__name__, type(self).__name__))\n",
    "        super().__init__(*args, **kwargs)\n",
    "\n",
    "    def run(self, *args, **kwargs):\n",
    "        self._logger.info(f\"Begin {self.run.__name__}\")\n",
    "        super().run(*args, **kwargs)\n",
    "        self._logger.info(f\"End {self.run.__name__}\")\n",
    "\n",
    "    def compose(self):\n",
    "        \"\"\"Creates the app specific operators and chain them up in the processing DAG.\"\"\"\n",
    "\n",
    "        logging.info(f\"Begin {self.compose.__name__}\")\n",
    "\n",
    "        study_loader_op = DICOMDataLoaderOperator()\n",
    "        series_selector_op = DICOMSeriesSelectorOperator()\n",
    "        series_to_vol_op = DICOMSeriesToVolumeOperator()\n",
    "\n",
    "        # Create the inference operator that supports MONAI Bundle and automates the inference.\n",
    "        # The IOMapping labels match the input and prediction keys in the pre and post processing.\n",
    "        # The model_name is optional when the app has only one model.\n",
    "        # The bundle_path argument optionally can be set to an accessible bundle file path in the dev\n",
    "        # environment, so when the app is packaged into a MAP, the operator can complete the bundle parsing\n",
    "        # during init to provide the optional packages info, parsed from the bundle, to the packager\n",
    "        # for it to install the packages in the MAP docker image.\n",
    "        # Setting output IOType to DISK only works only for leaf operators, not the case in this example.\n",
    "        bundle_spleen_seg_op = MonaiBundleInferenceOperator(\n",
    "            input_mapping=[IOMapping(\"image\", Image, IOType.IN_MEMORY)],\n",
    "            output_mapping=[IOMapping(\"pred\", Image, IOType.IN_MEMORY)],\n",
    "        )\n",
    "\n",
    "        # Create DICOM Seg writer with segment label name in a string list\n",
    "        dicom_seg_writer = DICOMSegmentationWriterOperator(seg_labels=[\"Spleen\"])\n",
    "\n",
    "        # Create the processing pipeline, by specifying the source and destination operators, and\n",
    "        # ensuring the output from the former matches the input of the latter, in both name and type.\n",
    "        self.add_flow(study_loader_op, series_selector_op, {\"dicom_study_list\": \"dicom_study_list\"})\n",
    "        self.add_flow(\n",
    "            series_selector_op, series_to_vol_op, {\"study_selected_series_list\": \"study_selected_series_list\"}\n",
    "        )\n",
    "        self.add_flow(series_to_vol_op, bundle_spleen_seg_op, {\"image\": \"image\"})\n",
    "        # Note below the dicom_seg_writer requires two inputs, each coming from a source operator.\n",
    "        self.add_flow(\n",
    "            series_selector_op, dicom_seg_writer, {\"study_selected_series_list\": \"study_selected_series_list\"}\n",
    "        )\n",
    "        self.add_flow(bundle_spleen_seg_op, dicom_seg_writer, {\"pred\": \"seg_image\"})\n",
    "\n",
    "        logging.info(f\"End {self.compose.__name__}\")"
   ]
  },
  {
   "cell_type": "markdown",
   "metadata": {},
   "source": [
    "## Executing app locally\n",
    "\n",
    "We can execute the app in the Jupyter notebook. Note that the DICOM files of the CT Abdomen series must be present in the `dcm` and the Torch Script model at `model.ts`. Please use the actual path in your environment.\n"
   ]
  },
  {
   "cell_type": "code",
   "execution_count": 5,
   "metadata": {},
   "outputs": [
    {
     "name": "stdout",
     "output_type": "stream",
     "text": [
      "\u001b[34mGoing to initiate execution of operator DICOMDataLoaderOperator\u001b[39m\n",
      "\u001b[32mExecuting operator DICOMDataLoaderOperator \u001b[33m(Process ID: 4288, Operator ID: 5874a40f-a44b-4f81-b9d7-86456fc82732)\u001b[39m\n"
     ]
    },
    {
     "name": "stderr",
     "output_type": "stream",
     "text": [
      "[2022-07-07 20:10:19,497] [WARNING] (root) - No selection rules given; select all series.\n",
      "[2022-07-07 20:10:19,498] [INFO] (root) - Working on study, instance UID: 1.2.826.0.1.3680043.2.1125.1.67295333199898911264201812221946213\n",
      "[2022-07-07 20:10:19,499] [INFO] (root) - Working on series, instance UID: 1.2.826.0.1.3680043.2.1125.1.68102559796966796813942775094416763\n"
     ]
    },
    {
     "name": "stdout",
     "output_type": "stream",
     "text": [
      "\u001b[34mDone performing execution of operator DICOMDataLoaderOperator\n",
      "\u001b[39m\n",
      "\u001b[34mGoing to initiate execution of operator DICOMSeriesSelectorOperator\u001b[39m\n",
      "\u001b[32mExecuting operator DICOMSeriesSelectorOperator \u001b[33m(Process ID: 4288, Operator ID: d7802157-c044-452f-bbf4-ba381d04e474)\u001b[39m\n",
      "Working on study, instance UID: 1.2.826.0.1.3680043.2.1125.1.67295333199898911264201812221946213\n",
      "Working on series, instance UID: 1.2.826.0.1.3680043.2.1125.1.68102559796966796813942775094416763\n",
      "\u001b[34mDone performing execution of operator DICOMSeriesSelectorOperator\n",
      "\u001b[39m\n",
      "\u001b[34mGoing to initiate execution of operator DICOMSeriesToVolumeOperator\u001b[39m\n",
      "\u001b[32mExecuting operator DICOMSeriesToVolumeOperator \u001b[33m(Process ID: 4288, Operator ID: 6ae16897-42b4-454f-9598-338682aa0dae)\u001b[39m\n",
      "\u001b[34mDone performing execution of operator DICOMSeriesToVolumeOperator\n",
      "\u001b[39m\n",
      "\u001b[34mGoing to initiate execution of operator MonaiBundleInferenceOperator\u001b[39m\n",
      "\u001b[32mExecuting operator MonaiBundleInferenceOperator \u001b[33m(Process ID: 4288, Operator ID: 910d8955-578e-45ef-b60e-f4e0fc7d4b06)\u001b[39m\n"
     ]
    },
    {
     "name": "stderr",
     "output_type": "stream",
     "text": [
      "[2022-07-07 20:10:47,624] [INFO] (monai.deploy.operators.dicom_seg_writer_operator.DICOMSegWriter) - Number of DICOM instance datasets in the list: 515\n",
      "[2022-07-07 20:10:47,624] [INFO] (monai.deploy.operators.dicom_seg_writer_operator.DICOMSegWriter) - Number of slices in the numpy image: 515\n",
      "[2022-07-07 20:10:47,625] [INFO] (monai.deploy.operators.dicom_seg_writer_operator.DICOMSegWriter) - Labels of the segments: ['Spleen']\n"
     ]
    },
    {
     "name": "stdout",
     "output_type": "stream",
     "text": [
      "\u001b[34mDone performing execution of operator MonaiBundleInferenceOperator\n",
      "\u001b[39m\n",
      "\u001b[34mGoing to initiate execution of operator DICOMSegmentationWriterOperator\u001b[39m\n",
      "\u001b[32mExecuting operator DICOMSegmentationWriterOperator \u001b[33m(Process ID: 4288, Operator ID: e5fd81c6-0e0c-438d-9e32-cb7c2a4fa481)\u001b[39m\n"
     ]
    },
    {
     "name": "stderr",
     "output_type": "stream",
     "text": [
      "[2022-07-07 20:10:49,639] [INFO] (monai.deploy.operators.dicom_seg_writer_operator.DICOMSegWriter) - Unique values in seg image: [0 1]\n",
      "[2022-07-07 20:10:50,856] [INFO] (monai.deploy.operators.dicom_seg_writer_operator.DICOMSegWriter) - Saving output file /home/mqin/src/monai-app-sdk/notebooks/tutorials/output/dicom_seg-DICOMSEG.dcm\n",
      "[2022-07-07 20:10:50,919] [INFO] (monai.deploy.operators.dicom_seg_writer_operator.DICOMSegWriter) - File saved.\n",
      "[2022-07-07 20:10:50,926] [INFO] (__main__.AISpleenSegApp) - End run\n"
     ]
    },
    {
     "name": "stdout",
     "output_type": "stream",
     "text": [
      "\u001b[34mDone performing execution of operator DICOMSegmentationWriterOperator\n",
      "\u001b[39m\n"
     ]
    }
   ],
   "source": [
    "app = AISpleenSegApp()\n",
    "\n",
    "app.run(input=\"dcm\", output=\"output\", model=\"model.ts\")"
   ]
  },
  {
   "cell_type": "markdown",
   "metadata": {},
   "source": [
    "Once the application is verified inside Jupyter notebook, we can write the above Python code into Python files in an application folder.\n",
    "\n",
    "The application folder structure would look like below:\n",
    "\n",
    "```bash\n",
    "my_app\n",
    "├── __main__.py\n",
    "└── app.py\n",
    "```"
   ]
  },
  {
   "cell_type": "code",
   "execution_count": 6,
   "metadata": {},
   "outputs": [],
   "source": [
    "# Create an application folder\n",
    "!mkdir -p my_app"
   ]
  },
  {
   "cell_type": "markdown",
   "metadata": {},
   "source": [
    "### app.py"
   ]
  },
  {
   "cell_type": "code",
   "execution_count": 7,
   "metadata": {},
   "outputs": [
    {
     "name": "stdout",
     "output_type": "stream",
     "text": [
      "Overwriting my_app/app.py\n"
     ]
    }
   ],
   "source": [
    "%%writefile my_app/app.py\n",
    "import logging\n",
    "\n",
    "from monai.deploy.core import Application, resource\n",
    "from monai.deploy.core.domain import Image\n",
    "from monai.deploy.core.io_type import IOType\n",
    "from monai.deploy.operators.dicom_data_loader_operator import DICOMDataLoaderOperator\n",
    "from monai.deploy.operators.dicom_seg_writer_operator import DICOMSegmentationWriterOperator\n",
    "from monai.deploy.operators.dicom_series_selector_operator import DICOMSeriesSelectorOperator\n",
    "from monai.deploy.operators.dicom_series_to_volume_operator import DICOMSeriesToVolumeOperator\n",
    "from monai.deploy.operators.monai_bundle_inference_operator import IOMapping, MonaiBundleInferenceOperator\n",
    "\n",
    "\n",
    "@resource(cpu=1, gpu=1, memory=\"7Gi\")\n",
    "class AISpleenSegApp(Application):\n",
    "    def __init__(self, *args, **kwargs):\n",
    "        \"\"\"Creates an application instance.\"\"\"\n",
    "        self._logger = logging.getLogger(\"{}.{}\".format(__name__, type(self).__name__))\n",
    "        super().__init__(*args, **kwargs)\n",
    "\n",
    "    def run(self, *args, **kwargs):\n",
    "        # This method calls the base class to run. Can be omitted if simply calling through.\n",
    "        self._logger.info(f\"Begin {self.run.__name__}\")\n",
    "        super().run(*args, **kwargs)\n",
    "        self._logger.info(f\"End {self.run.__name__}\")\n",
    "\n",
    "    def compose(self):\n",
    "        \"\"\"Creates the app specific operators and chain them up in the processing DAG.\"\"\"\n",
    "\n",
    "        logging.info(f\"Begin {self.compose.__name__}\")\n",
    "\n",
    "        # Create the custom operator(s) as well as SDK built-in operator(s).\n",
    "        study_loader_op = DICOMDataLoaderOperator()\n",
    "        series_selector_op = DICOMSeriesSelectorOperator()\n",
    "        series_to_vol_op = DICOMSeriesToVolumeOperator()\n",
    "\n",
    "        # Create the inference operator that supports MONAI Bundle and automates the inference.\n",
    "        # The IOMapping labels match the input and prediction keys in the pre and post processing.\n",
    "        # The model_name is optional when the app has only one model.\n",
    "        # The bundle_path argument optionally can be set to an accessible bundle file path in the dev\n",
    "        # environment, so when the app is packaged into a MAP, the operator can complete the bundle parsing\n",
    "        # during init to provide the optional packages info, parsed from the bundle, to the packager\n",
    "        # for it to install the packages in the MAP docker image.\n",
    "        # Setting output IOType to DISK only works only for leaf operators, not the case in this example.\n",
    "        bundle_spleen_seg_op = MonaiBundleInferenceOperator(\n",
    "            input_mapping=[IOMapping(\"image\", Image, IOType.IN_MEMORY)],\n",
    "            output_mapping=[IOMapping(\"pred\", Image, IOType.IN_MEMORY)],\n",
    "        )\n",
    "\n",
    "        # Create DICOM Seg writer with segment label name in a string list\n",
    "        dicom_seg_writer = DICOMSegmentationWriterOperator(seg_labels=[\"Spleen\"])\n",
    "\n",
    "        # Create the processing pipeline, by specifying the source and destination operators, and\n",
    "        # ensuring the output from the former matches the input of the latter, in both name and type.\n",
    "        self.add_flow(study_loader_op, series_selector_op, {\"dicom_study_list\": \"dicom_study_list\"})\n",
    "        self.add_flow(\n",
    "            series_selector_op, series_to_vol_op, {\"study_selected_series_list\": \"study_selected_series_list\"}\n",
    "        )\n",
    "        self.add_flow(series_to_vol_op, bundle_spleen_seg_op, {\"image\": \"image\"})\n",
    "        # Note below the dicom_seg_writer requires two inputs, each coming from a source operator.\n",
    "        self.add_flow(\n",
    "            series_selector_op, dicom_seg_writer, {\"study_selected_series_list\": \"study_selected_series_list\"}\n",
    "        )\n",
    "        self.add_flow(bundle_spleen_seg_op, dicom_seg_writer, {\"pred\": \"seg_image\"})\n",
    "\n",
    "        logging.info(f\"End {self.compose.__name__}\")\n",
    "\n",
    "if __name__ == \"__main__\":\n",
    "    # Creates the app and test it standalone. When running in this mode, please note the following:\n",
    "    #     -m <model file>, for model file path\n",
    "    #     -i <DICOM folder>, for input DICOM CT series folder\n",
    "    #     -o <output folder>, for the output folder, default $PWD/output\n",
    "    # e.g.\n",
    "    #     monai-deploy exec app.py -i input -m model/model.ts\n",
    "    #\n",
    "    logging.basicConfig(level=logging.DEBUG)\n",
    "    app_instance = AISpleenSegApp(do_run=True)"
   ]
  },
  {
   "cell_type": "markdown",
   "metadata": {},
   "source": [
    "```python\n",
    "if __name__ == \"__main__\":\n",
    "    AISpleenSegApp(do_run=True)\n",
    "```\n",
    "\n",
    "The above lines are needed to execute the application code by using `python` interpreter.\n",
    "\n",
    "### \\_\\_main\\_\\_.py\n",
    "\n",
    "\\_\\_main\\_\\_.py is needed for <a href=\"../../developing_with_sdk/packaging_app.html#required-arguments\">MONAI Application Packager</a> to detect the main application code (`app.py`) when the application is executed with the application folder path (e.g., `python simple_imaging_app`)."
   ]
  },
  {
   "cell_type": "code",
   "execution_count": 8,
   "metadata": {},
   "outputs": [
    {
     "name": "stdout",
     "output_type": "stream",
     "text": [
      "Overwriting my_app/__main__.py\n"
     ]
    }
   ],
   "source": [
    "%%writefile my_app/__main__.py\n",
    "from app import AISpleenSegApp\n",
    "\n",
    "if __name__ == \"__main__\":\n",
    "    AISpleenSegApp(do_run=True)"
   ]
  },
  {
   "cell_type": "code",
   "execution_count": 9,
   "metadata": {},
   "outputs": [
    {
     "name": "stdout",
     "output_type": "stream",
     "text": [
      "app.py\t__main__.py  __pycache__\n"
     ]
    }
   ],
   "source": [
    "!ls my_app"
   ]
  },
  {
   "cell_type": "markdown",
   "metadata": {},
   "source": [
    "In this time, let's execute the app in the command line."
   ]
  },
  {
   "cell_type": "code",
   "execution_count": 10,
   "metadata": {},
   "outputs": [
    {
     "name": "stdout",
     "output_type": "stream",
     "text": [
      "\u001b[34mGoing to initiate execution of operator DICOMDataLoaderOperator\u001b[39m\n",
      "\u001b[32mExecuting operator DICOMDataLoaderOperator \u001b[33m(Process ID: 4765, Operator ID: b02877e6-a841-43e6-9267-53c2d24402fb)\u001b[39m\n",
      "\u001b[34mDone performing execution of operator DICOMDataLoaderOperator\n",
      "\u001b[39m\n",
      "\u001b[34mGoing to initiate execution of operator DICOMSeriesSelectorOperator\u001b[39m\n",
      "\u001b[32mExecuting operator DICOMSeriesSelectorOperator \u001b[33m(Process ID: 4765, Operator ID: 44b01560-4417-4173-853f-2a4d6d751892)\u001b[39m\n",
      "[2022-07-07 20:12:09,138] [WARNING] (root) - No selection rules given; select all series.\n",
      "[2022-07-07 20:12:09,138] [INFO] (root) - Working on study, instance UID: 1.2.826.0.1.3680043.2.1125.1.67295333199898911264201812221946213\n",
      "Working on study, instance UID: 1.2.826.0.1.3680043.2.1125.1.67295333199898911264201812221946213\n",
      "[2022-07-07 20:12:09,138] [INFO] (root) - Working on series, instance UID: 1.2.826.0.1.3680043.2.1125.1.68102559796966796813942775094416763\n",
      "Working on series, instance UID: 1.2.826.0.1.3680043.2.1125.1.68102559796966796813942775094416763\n",
      "\u001b[34mDone performing execution of operator DICOMSeriesSelectorOperator\n",
      "\u001b[39m\n",
      "\u001b[34mGoing to initiate execution of operator DICOMSeriesToVolumeOperator\u001b[39m\n",
      "\u001b[32mExecuting operator DICOMSeriesToVolumeOperator \u001b[33m(Process ID: 4765, Operator ID: 58d2e9ea-0c95-4d27-8535-02fc6a3106d3)\u001b[39m\n",
      "\u001b[34mDone performing execution of operator DICOMSeriesToVolumeOperator\n",
      "\u001b[39m\n",
      "\u001b[34mGoing to initiate execution of operator MonaiBundleInferenceOperator\u001b[39m\n",
      "\u001b[32mExecuting operator MonaiBundleInferenceOperator \u001b[33m(Process ID: 4765, Operator ID: 1d361473-ae16-4f98-9406-71b7cc11f983)\u001b[39m\n",
      "\u001b[34mDone performing execution of operator MonaiBundleInferenceOperator\n",
      "\u001b[39m\n",
      "\u001b[34mGoing to initiate execution of operator DICOMSegmentationWriterOperator\u001b[39m\n",
      "\u001b[32mExecuting operator DICOMSegmentationWriterOperator \u001b[33m(Process ID: 4765, Operator ID: 76fcb554-8754-49bd-95aa-91496465196e)\u001b[39m\n",
      "[2022-07-07 20:12:36,824] [INFO] (monai.deploy.operators.dicom_seg_writer_operator.DICOMSegWriter) - Number of DICOM instance datasets in the list: 515\n",
      "[2022-07-07 20:12:36,824] [INFO] (monai.deploy.operators.dicom_seg_writer_operator.DICOMSegWriter) - Number of slices in the numpy image: 515\n",
      "[2022-07-07 20:12:36,824] [INFO] (monai.deploy.operators.dicom_seg_writer_operator.DICOMSegWriter) - Labels of the segments: ['Spleen']\n",
      "[2022-07-07 20:12:38,800] [INFO] (monai.deploy.operators.dicom_seg_writer_operator.DICOMSegWriter) - Unique values in seg image: [0 1]\n",
      "[2022-07-07 20:12:39,891] [INFO] (monai.deploy.operators.dicom_seg_writer_operator.DICOMSegWriter) - Saving output file /home/mqin/src/monai-app-sdk/notebooks/tutorials/output/dicom_seg-DICOMSEG.dcm\n",
      "[2022-07-07 20:12:39,954] [INFO] (monai.deploy.operators.dicom_seg_writer_operator.DICOMSegWriter) - File saved.\n",
      "\u001b[34mDone performing execution of operator DICOMSegmentationWriterOperator\n",
      "\u001b[39m\n",
      "[2022-07-07 20:12:39,958] [INFO] (app.AISpleenSegApp) - End run\n"
     ]
    }
   ],
   "source": [
    "!python my_app -i dcm -o output -m model.ts"
   ]
  },
  {
   "cell_type": "markdown",
   "metadata": {},
   "source": [
    "Above command is same with the following command line:"
   ]
  },
  {
   "cell_type": "code",
   "execution_count": 11,
   "metadata": {},
   "outputs": [
    {
     "name": "stdout",
     "output_type": "stream",
     "text": [
      "\u001b[34mGoing to initiate execution of operator DICOMDataLoaderOperator\u001b[39m\n",
      "\u001b[32mExecuting operator DICOMDataLoaderOperator \u001b[33m(Process ID: 4852, Operator ID: 5d746e23-c941-4b9f-8d59-1209f6674b2e)\u001b[39m\n",
      "\u001b[34mDone performing execution of operator DICOMDataLoaderOperator\n",
      "\u001b[39m\n",
      "\u001b[34mGoing to initiate execution of operator DICOMSeriesSelectorOperator\u001b[39m\n",
      "\u001b[32mExecuting operator DICOMSeriesSelectorOperator \u001b[33m(Process ID: 4852, Operator ID: 0b43252c-4e8c-45f7-be3e-b6a0f1f9211f)\u001b[39m\n",
      "[2022-07-07 20:12:58,224] [WARNING] (root) - No selection rules given; select all series.\n",
      "[2022-07-07 20:12:58,224] [INFO] (root) - Working on study, instance UID: 1.2.826.0.1.3680043.2.1125.1.67295333199898911264201812221946213\n",
      "Working on study, instance UID: 1.2.826.0.1.3680043.2.1125.1.67295333199898911264201812221946213\n",
      "[2022-07-07 20:12:58,224] [INFO] (root) - Working on series, instance UID: 1.2.826.0.1.3680043.2.1125.1.68102559796966796813942775094416763\n",
      "Working on series, instance UID: 1.2.826.0.1.3680043.2.1125.1.68102559796966796813942775094416763\n",
      "\u001b[34mDone performing execution of operator DICOMSeriesSelectorOperator\n",
      "\u001b[39m\n",
      "\u001b[34mGoing to initiate execution of operator DICOMSeriesToVolumeOperator\u001b[39m\n",
      "\u001b[32mExecuting operator DICOMSeriesToVolumeOperator \u001b[33m(Process ID: 4852, Operator ID: 8a3b960f-6c2e-4ba1-83cc-155ae4ff1771)\u001b[39m\n",
      "\u001b[34mDone performing execution of operator DICOMSeriesToVolumeOperator\n",
      "\u001b[39m\n",
      "\u001b[34mGoing to initiate execution of operator MonaiBundleInferenceOperator\u001b[39m\n",
      "\u001b[32mExecuting operator MonaiBundleInferenceOperator \u001b[33m(Process ID: 4852, Operator ID: b60cb240-43d7-482e-85c1-bdce50bd87be)\u001b[39m\n",
      "\u001b[34mDone performing execution of operator MonaiBundleInferenceOperator\n",
      "\u001b[39m\n",
      "\u001b[34mGoing to initiate execution of operator DICOMSegmentationWriterOperator\u001b[39m\n",
      "\u001b[32mExecuting operator DICOMSegmentationWriterOperator \u001b[33m(Process ID: 4852, Operator ID: 0b34cf71-0fb2-4900-8ed7-872348a0f772)\u001b[39m\n",
      "[2022-07-07 20:13:26,091] [INFO] (monai.deploy.operators.dicom_seg_writer_operator.DICOMSegWriter) - Number of DICOM instance datasets in the list: 515\n",
      "[2022-07-07 20:13:26,091] [INFO] (monai.deploy.operators.dicom_seg_writer_operator.DICOMSegWriter) - Number of slices in the numpy image: 515\n",
      "[2022-07-07 20:13:26,091] [INFO] (monai.deploy.operators.dicom_seg_writer_operator.DICOMSegWriter) - Labels of the segments: ['Spleen']\n",
      "[2022-07-07 20:13:28,081] [INFO] (monai.deploy.operators.dicom_seg_writer_operator.DICOMSegWriter) - Unique values in seg image: [0 1]\n",
      "[2022-07-07 20:13:29,127] [INFO] (monai.deploy.operators.dicom_seg_writer_operator.DICOMSegWriter) - Saving output file /home/mqin/src/monai-app-sdk/notebooks/tutorials/output/dicom_seg-DICOMSEG.dcm\n",
      "[2022-07-07 20:13:29,189] [INFO] (monai.deploy.operators.dicom_seg_writer_operator.DICOMSegWriter) - File saved.\n",
      "\u001b[34mDone performing execution of operator DICOMSegmentationWriterOperator\n",
      "\u001b[39m\n",
      "[2022-07-07 20:13:29,194] [INFO] (app.AISpleenSegApp) - End run\n"
     ]
    }
   ],
   "source": [
    "import os\n",
    "os.environ['MKL_THREADING_LAYER'] = 'GNU'\n",
    "!monai-deploy exec my_app -i dcm -o output -m model.ts"
   ]
  },
  {
   "cell_type": "code",
   "execution_count": 12,
   "metadata": {},
   "outputs": [
    {
     "name": "stdout",
     "output_type": "stream",
     "text": [
      "dicom_seg-DICOMSEG.dcm\n"
     ]
    }
   ],
   "source": [
    "!ls output"
   ]
  },
  {
   "cell_type": "markdown",
   "metadata": {},
   "source": [
    "## Packaging app"
   ]
  },
  {
   "cell_type": "markdown",
   "metadata": {},
   "source": [
    "Let's package the app with [MONAI Application Packager](/developing_with_sdk/packaging_app)."
   ]
  },
  {
   "cell_type": "code",
   "execution_count": 13,
   "metadata": {},
   "outputs": [
    {
     "name": "stdout",
     "output_type": "stream",
     "text": [
      "[2022-07-07 20:14:05,029] [INFO] (root) - Begin compose\n",
      "[2022-07-07 20:14:05,030] [INFO] (root) - End compose\n",
      "Building MONAI Application Package... Done\n",
      "[2022-07-07 20:14:05,630] [INFO] (app_packager) - Successfully built my_app:latest\n"
     ]
    }
   ],
   "source": [
    "!monai-deploy package -b nvcr.io/nvidia/pytorch:21.11-py3 my_app --tag my_app:latest -m model.ts"
   ]
  },
  {
   "cell_type": "markdown",
   "metadata": {},
   "source": [
    ":::{note}\n",
    "Building a MONAI Application Package (Docker image) can take time. Use `-l DEBUG` option if you want to see the progress.\n",
    ":::\n",
    "\n",
    "We can see that the Docker image is created."
   ]
  },
  {
   "cell_type": "code",
   "execution_count": 14,
   "metadata": {},
   "outputs": [
    {
     "name": "stdout",
     "output_type": "stream",
     "text": [
      "my_app                                                            latest                     05c843c720ad   2 hours ago     15.3GB\n"
     ]
    }
   ],
   "source": [
    "!docker image ls | grep my_app"
   ]
  },
  {
   "cell_type": "markdown",
   "metadata": {},
   "source": [
    "## Executing packaged app locally\n",
    "\n",
    "The packaged app can be run locally through [MONAI Application Runner](/developing_with_sdk/executing_packaged_app_locally)."
   ]
  },
  {
   "cell_type": "code",
   "execution_count": 15,
   "metadata": {},
   "outputs": [
    {
     "name": "stdout",
     "output_type": "stream",
     "text": [
      "Checking dependencies...\n",
      "--> Verifying if \"docker\" is installed...\n",
      "\n",
      "--> Verifying if \"my_app:latest\" is available...\n",
      "\n",
      "Checking for MAP \"my_app:latest\" locally\n",
      "\"my_app:latest\" found.\n",
      "\n",
      "Reading MONAI App Package manifest...\n",
      "--> Verifying if \"nvidia-docker\" is installed...\n",
      "\n",
      "/opt/conda/lib/python3.8/site-packages/scipy/__init__.py:138: UserWarning: A NumPy version >=1.16.5 and <1.23.0 is required for this version of SciPy (detected version 1.23.0)\n",
      "  warnings.warn(f\"A NumPy version >={np_minversion} and <{np_maxversion} is required for this version of \"\n",
      "INFO:root:Begin compose\n",
      "DEBUG:root:Bundle path, None, not valid. Will get it in the execution context.\n",
      "INFO:root:End compose\n",
      "INFO:__main__.AISpleenSegApp:Begin run\n",
      "\u001b[34mGoing to initiate execution of operator DICOMDataLoaderOperator\u001b[39m\n",
      "\u001b[32mExecuting operator DICOMDataLoaderOperator \u001b[33m(Process ID: 1, Operator ID: a2b6f335-f5f5-4327-a681-439b36091ca2)\u001b[39m\n",
      "\u001b[34mDone performing execution of operator DICOMDataLoaderOperator\n",
      "\u001b[39m\n",
      "\u001b[34mGoing to initiate execution of operator DICOMSeriesSelectorOperator\u001b[39m\n",
      "\u001b[32mExecuting operator DICOMSeriesSelectorOperator \u001b[33m(Process ID: 1, Operator ID: 4e7f84f5-ca5f-42ba-8984-86ee5c527594)\u001b[39m\n",
      "[2022-07-08 03:14:33,651] [WARNING] (root) - No selection rules given; select all series.\n",
      "[2022-07-08 03:14:33,651] [INFO] (root) - Working on study, instance UID: 1.2.826.0.1.3680043.2.1125.1.67295333199898911264201812221946213\n",
      "Working on study, instance UID: 1.2.826.0.1.3680043.2.1125.1.67295333199898911264201812221946213\n",
      "[2022-07-08 03:14:33,651] [INFO] (root) - Working on series, instance UID: 1.2.826.0.1.3680043.2.1125.1.68102559796966796813942775094416763\n",
      "Working on series, instance UID: 1.2.826.0.1.3680043.2.1125.1.68102559796966796813942775094416763\n",
      "\u001b[34mDone performing execution of operator DICOMSeriesSelectorOperator\n",
      "\u001b[39m\n",
      "\u001b[34mGoing to initiate execution of operator DICOMSeriesToVolumeOperator\u001b[39m\n",
      "\u001b[32mExecuting operator DICOMSeriesToVolumeOperator \u001b[33m(Process ID: 1, Operator ID: 413e0366-114c-4d06-9faf-3a8f4ba6863f)\u001b[39m\n",
      "\u001b[34mDone performing execution of operator DICOMSeriesToVolumeOperator\n",
      "\u001b[39m\n",
      "\u001b[34mGoing to initiate execution of operator MonaiBundleInferenceOperator\u001b[39m\n",
      "\u001b[32mExecuting operator MonaiBundleInferenceOperator \u001b[33m(Process ID: 1, Operator ID: f250496d-9b15-4ab3-83b3-6a608f07dd7c)\u001b[39m\n",
      "\u001b[34mDone performing execution of operator MonaiBundleInferenceOperator\n",
      "\u001b[39m\n",
      "\u001b[34mGoing to initiate execution of operator DICOMSegmentationWriterOperator\u001b[39m\n",
      "\u001b[32mExecuting operator DICOMSegmentationWriterOperator \u001b[33m(Process ID: 1, Operator ID: b85c589b-054c-4ecd-b8d9-cb7745bd9011)\u001b[39m\n",
      "[2022-07-08 03:15:00,796] [INFO] (monai.deploy.operators.dicom_seg_writer_operator.DICOMSegWriter) - Number of DICOM instance datasets in the list: 515\n",
      "[2022-07-08 03:15:00,796] [INFO] (monai.deploy.operators.dicom_seg_writer_operator.DICOMSegWriter) - Number of slices in the numpy image: 515\n",
      "[2022-07-08 03:15:00,796] [INFO] (monai.deploy.operators.dicom_seg_writer_operator.DICOMSegWriter) - Labels of the segments: ['Spleen']\n",
      "[2022-07-08 03:15:02,511] [INFO] (monai.deploy.operators.dicom_seg_writer_operator.DICOMSegWriter) - Unique values in seg image: [0 1]\n",
      "/root/.local/lib/python3.8/site-packages/pydicom/valuerep.py:290: UserWarning: Invalid value for VR DA: '2019-09-16'.\n",
      "  warnings.warn(msg)\n",
      "/root/.local/lib/python3.8/site-packages/pydicom/valuerep.py:290: UserWarning: The value length (94) exceeds the maximum length of 64 allowed for VR LO.\n",
      "  warnings.warn(msg)\n",
      "[2022-07-08 03:15:03,694] [INFO] (monai.deploy.operators.dicom_seg_writer_operator.DICOMSegWriter) - Saving output file /var/monai/output/dicom_seg-DICOMSEG.dcm\n",
      "[2022-07-08 03:15:03,797] [INFO] (monai.deploy.operators.dicom_seg_writer_operator.DICOMSegWriter) - File saved.\n",
      "\u001b[34mDone performing execution of operator DICOMSegmentationWriterOperator\n",
      "\u001b[39m\n",
      "[2022-07-08 03:15:03,803] [INFO] (__main__.AISpleenSegApp) - End run\n"
     ]
    }
   ],
   "source": [
    "# Copy DICOM files are in 'dcm' folder\n",
    "\n",
    "# Launch the app\n",
    "!monai-deploy run my_app:latest dcm output"
   ]
  },
  {
   "cell_type": "code",
   "execution_count": 16,
   "metadata": {},
   "outputs": [
    {
     "name": "stdout",
     "output_type": "stream",
     "text": [
      "dicom_seg-DICOMSEG.dcm\n"
     ]
    }
   ],
   "source": [
    "!ls output"
   ]
  }
 ],
 "metadata": {
  "interpreter": {
   "hash": "31f2aee4e71d21fbe5cf8b01ff0e069b9275f58929596ceb00d14d90e3e16cd6"
  },
  "kernelspec": {
   "display_name": "Python 3",
   "language": "python",
   "name": "python3"
  },
  "language_info": {
   "codemirror_mode": {
    "name": "ipython",
    "version": 3
   },
   "file_extension": ".py",
   "mimetype": "text/x-python",
   "name": "python",
   "nbconvert_exporter": "python",
   "pygments_lexer": "ipython3",
   "version": "3.7.5"
  }
 },
 "nbformat": 4,
 "nbformat_minor": 4
}
